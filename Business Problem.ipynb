{
 "cells": [
  {
   "cell_type": "markdown",
   "metadata": {},
   "source": [
    "##  <center> Coursera Capstone Project </center>"
   ]
  },
  {
   "cell_type": "markdown",
   "metadata": {},
   "source": [
    "###### <center> IBM Applied Data Science Capstone</center>"
   ]
  },
  {
   "cell_type": "markdown",
   "metadata": {},
   "source": [
    "#  <center>*Opening a new Restaurant in Delhi,India* </center>"
   ]
  },
  {
   "cell_type": "markdown",
   "metadata": {},
   "source": [
    " ![](Desktop/Delhi_Restaurants.jpg )"
   ]
  },
  {
   "cell_type": "markdown",
   "metadata": {},
   "source": [
    " "
   ]
  },
  {
   "cell_type": "markdown",
   "metadata": {},
   "source": [
    " "
   ]
  },
  {
   "cell_type": "markdown",
   "metadata": {},
   "source": [
    " "
   ]
  },
  {
   "cell_type": "markdown",
   "metadata": {},
   "source": [
    " "
   ]
  },
  {
   "cell_type": "markdown",
   "metadata": {},
   "source": [
    "### Business Problem\n",
    "\n",
    "The objective of this project is to analyse neighborhoods of Delhi to select the best location to open a restaurant. "
   ]
  },
  {
   "cell_type": "markdown",
   "metadata": {},
   "source": [
    " "
   ]
  },
  {
   "cell_type": "markdown",
   "metadata": {},
   "source": [
    " "
   ]
  },
  {
   "cell_type": "markdown",
   "metadata": {},
   "source": [
    " "
   ]
  },
  {
   "cell_type": "markdown",
   "metadata": {},
   "source": [
    " "
   ]
  },
  {
   "cell_type": "markdown",
   "metadata": {},
   "source": [
    " "
   ]
  },
  {
   "cell_type": "markdown",
   "metadata": {},
   "source": [
    "## Introduction  \n",
    "While Delhi has always been a food-loving with each region having its own special cuisine, they have never been very big on eating out in the past. But all that is changing now. The restaurant industry in Delhi has been growing at a rapid pace over the last decade or so and the growth story is set to continue for the next foreseeable future. Its increasing population, rapid urbanisation and growing awareness of western lifestyles and higher disposable income were some of the factors that contributed to the growth of the restaurant industry.\n",
    "  Property developers, online food platform companies are taking the advantage of this trend to build new restaurants to meet the demands. However not every restaurants marked success. There are few considerations particularly the location of the restaurant that determines that whether the mall will be a success or failure."
   ]
  },
  {
   "cell_type": "markdown",
   "metadata": {},
   "source": [
    " "
   ]
  },
  {
   "cell_type": "markdown",
   "metadata": {},
   "source": [
    " "
   ]
  },
  {
   "cell_type": "markdown",
   "metadata": {},
   "source": [
    " "
   ]
  },
  {
   "cell_type": "markdown",
   "metadata": {},
   "source": [
    " "
   ]
  },
  {
   "cell_type": "markdown",
   "metadata": {},
   "source": [
    " "
   ]
  },
  {
   "cell_type": "markdown",
   "metadata": {},
   "source": [
    " \n",
    "  \n",
    "### Using Data Science methodology techniques we will the answer the following questions:\n",
    "\n",
    "* ***How is the frequency distribution of restaurants across Delhi?***\n",
    "* ***What type of venues are present in each locality?***\n",
    "* ***What is effect of other venues on frequency of restaurant in a locality?***"
   ]
  },
  {
   "cell_type": "markdown",
   "metadata": {},
   "source": [
    " "
   ]
  },
  {
   "cell_type": "markdown",
   "metadata": {},
   "source": [
    " "
   ]
  },
  {
   "cell_type": "markdown",
   "metadata": {},
   "source": [
    " "
   ]
  },
  {
   "cell_type": "markdown",
   "metadata": {},
   "source": [
    " "
   ]
  },
  {
   "cell_type": "markdown",
   "metadata": {},
   "source": [
    "#### Questions to be answered intuitively:\n",
    "\n",
    "* ***What is the effect of other restaurants on a new restaurant in a locality?***   \n",
    "It can be clearly observed that if a location has lots of restaurants then opening new restaurants in such area is a bad idea. And similarly if a location has very few restaurants then it is a better idea to open a restaurant.\n",
    "* ***What is effect of other venues on  a new restaurant in a locality?***\n",
    "There are some venues that affect the working of restaurants. E.g. Shopping Malls, Bars, Government buildings etc."
   ]
  },
  {
   "cell_type": "markdown",
   "metadata": {},
   "source": [
    " "
   ]
  },
  {
   "cell_type": "markdown",
   "metadata": {},
   "source": [
    " "
   ]
  },
  {
   "cell_type": "markdown",
   "metadata": {},
   "source": [
    " "
   ]
  },
  {
   "cell_type": "markdown",
   "metadata": {},
   "source": [
    " "
   ]
  },
  {
   "cell_type": "markdown",
   "metadata": {},
   "source": [
    "### Target audience of this project"
   ]
  },
  {
   "cell_type": "markdown",
   "metadata": {},
   "source": [
    "This project is particularly helpful for online food platform companies and property developers and investors who want to invest in new restaurants in Delhi. This is the high time because of which this project is timely and relevent.\n",
    "Lots of new restaurants are opening, increasing competition\n",
    "\n",
    "Nearly 82 per cent of the restaurants are domestic standalone outlet/chains, while the remaining 18 per cent restaurants being of international origin. A growing market for international origin restaurants, Delhi has many Mexican, Mediterranean, Lebanese and Arabian restaurants etc.\n",
    "\n"
   ]
  }
 ],
 "metadata": {
  "kernelspec": {
   "display_name": "Python 3",
   "language": "python",
   "name": "python3"
  },
  "language_info": {
   "codemirror_mode": {
    "name": "ipython",
    "version": 3
   },
   "file_extension": ".py",
   "mimetype": "text/x-python",
   "name": "python",
   "nbconvert_exporter": "python",
   "pygments_lexer": "ipython3",
   "version": "3.7.4"
  }
 },
 "nbformat": 4,
 "nbformat_minor": 2
}
